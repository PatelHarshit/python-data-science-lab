{
  "nbformat": 4,
  "nbformat_minor": 0,
  "metadata": {
    "colab": {
      "provenance": [],
      "authorship_tag": "ABX9TyP7QERV8n6k3lZ7TWlWw4Ym",
      "include_colab_link": true
    },
    "kernelspec": {
      "name": "python3",
      "display_name": "Python 3"
    },
    "language_info": {
      "name": "python"
    }
  },
  "cells": [
    {
      "cell_type": "markdown",
      "metadata": {
        "id": "view-in-github",
        "colab_type": "text"
      },
      "source": [
        "<a href=\"https://colab.research.google.com/github/PatelHarshit/python-data-science-lab/blob/main/ds_lab2_(08_08).ipynb\" target=\"_parent\"><img src=\"https://colab.research.google.com/assets/colab-badge.svg\" alt=\"Open In Colab\"/></a>"
      ]
    },
    {
      "cell_type": "code",
      "execution_count": 1,
      "metadata": {
        "colab": {
          "base_uri": "https://localhost:8080/"
        },
        "id": "mNFoZwDLDoGf",
        "outputId": "2c449f94-aebd-47cd-afc6-ff7b563316e6"
      },
      "outputs": [
        {
          "output_type": "stream",
          "name": "stdout",
          "text": [
            "Full Sales DataFrame:\n",
            "    Order ID   Product  Quantity  Price  Total Sale  Discount\n",
            "0      1001    Laptop         1   1200        1200     120.0\n",
            "1      1002     Mouse         5     25         125       0.0\n",
            "2      1003   Monitor         2    300         600       0.0\n",
            "3      1004    Laptop         1   1300        1300     130.0\n",
            "4      1005  Keyboard        10     45         450       0.0\n",
            "5      1006     Mouse         3     30          90       0.0\n",
            "\n",
            "High Value Orders (>1000):\n",
            "    Order ID Product  Quantity  Price  Total Sale\n",
            "0      1001  Laptop         1   1200        1200\n",
            "3      1004  Laptop         1   1300        1300\n",
            "\n",
            "Most Sold Product:\n",
            " Product     Keyboard\n",
            "Quantity          10\n",
            "Name: 0, dtype: object\n",
            "\n",
            "Sales summary exported to 'sales_summary.xlsx'\n"
          ]
        }
      ],
      "source": [
        "import pandas as pd\n",
        "\n",
        "# 1. Create sample data\n",
        "data = {\n",
        "    'Order ID': [1001, 1002, 1003, 1004, 1005, 1006],\n",
        "    'Product': ['Laptop', 'Mouse', 'Monitor', 'Laptop', 'Keyboard', 'Mouse'],\n",
        "    'Quantity': [1, 5, 2, 1, 10, 3],\n",
        "    'Price': [1200, 25, 300, 1300, 45, 30]\n",
        "}\n",
        "\n",
        "# 2. Create DataFrame\n",
        "df = pd.DataFrame(data)\n",
        "\n",
        "# 3. Calculate Total Sale per order\n",
        "df['Total Sale'] = df['Quantity'] * df['Price']\n",
        "\n",
        "# 4. Filter orders with total sale > 1000\n",
        "high_value_orders = df[df['Total Sale'] > 1000]\n",
        "\n",
        "# 5. Find most sold product using groupby (based on quantity)\n",
        "product_sales = df.groupby('Product')['Quantity'].sum().reset_index()\n",
        "most_sold_product = product_sales.loc[product_sales['Quantity'].idxmax()]\n",
        "\n",
        "# 6. Add a Discount column (e.g., 10% if Total Sale > 1000, else 0%)\n",
        "df['Discount'] = df['Total Sale'].apply(lambda x: 0.10 * x if x > 1000 else 0)\n",
        "\n",
        "# 7. Export the summary to Excel\n",
        "with pd.ExcelWriter('sales_summary.xlsx') as writer:\n",
        "    df.to_excel(writer, index=False, sheet_name='Full Data')\n",
        "    high_value_orders.to_excel(writer, index=False, sheet_name='High Value Orders')\n",
        "    product_sales.to_excel(writer, index=False, sheet_name='Product Sales')\n",
        "\n",
        "# 8. Print outputs\n",
        "print(\"Full Sales DataFrame:\\n\", df)\n",
        "print(\"\\nHigh Value Orders (>1000):\\n\", high_value_orders)\n",
        "print(\"\\nMost Sold Product:\\n\", most_sold_product)\n",
        "print(\"\\nSales summary exported to 'sales_summary.xlsx'\")"
      ]
    }
  ]
}