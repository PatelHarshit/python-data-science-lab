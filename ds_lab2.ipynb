{
  "nbformat": 4,
  "nbformat_minor": 0,
  "metadata": {
    "colab": {
      "provenance": [],
      "authorship_tag": "ABX9TyMh1b/qIHOWkyZdYQf/dHXp",
      "include_colab_link": true
    },
    "kernelspec": {
      "name": "python3",
      "display_name": "Python 3"
    },
    "language_info": {
      "name": "python"
    }
  },
  "cells": [
    {
      "cell_type": "markdown",
      "metadata": {
        "id": "view-in-github",
        "colab_type": "text"
      },
      "source": [
        "<a href=\"https://colab.research.google.com/github/PatelHarshit/python-data-science-lab/blob/main/ds_lab2.ipynb\" target=\"_parent\"><img src=\"https://colab.research.google.com/assets/colab-badge.svg\" alt=\"Open In Colab\"/></a>"
      ]
    },
    {
      "cell_type": "code",
      "source": [
        "import numpy as np\n",
        "import pandas as pd"
      ],
      "metadata": {
        "id": "FYt-m2za8OQx"
      },
      "execution_count": 23,
      "outputs": []
    },
    {
      "cell_type": "code",
      "source": [
        "arr = np.array([10, 20, 30, 40, 50])\n",
        "print('Original Array:', arr)"
      ],
      "metadata": {
        "colab": {
          "base_uri": "https://localhost:8080/"
        },
        "id": "80tbOpkd8bgQ",
        "outputId": "c9bababc-fada-4c2d-a2a9-2269e9c0bbc2"
      },
      "execution_count": 24,
      "outputs": [
        {
          "output_type": "stream",
          "name": "stdout",
          "text": [
            "Original Array: [10 20 30 40 50]\n"
          ]
        }
      ]
    },
    {
      "cell_type": "code",
      "source": [
        "arr + 5 # Add 5 to each element\n",
        "arr * 2 # Multiply each element by 2\n",
        "arr[arr > 25] # Filter elements > 25"
      ],
      "metadata": {
        "colab": {
          "base_uri": "https://localhost:8080/"
        },
        "id": "FNtHJ1L88lbA",
        "outputId": "9659f5a6-cf05-41d1-9ee6-83b7cc886993"
      },
      "execution_count": 25,
      "outputs": [
        {
          "output_type": "execute_result",
          "data": {
            "text/plain": [
              "array([30, 40, 50])"
            ]
          },
          "metadata": {},
          "execution_count": 25
        }
      ]
    },
    {
      "cell_type": "code",
      "source": [
        "data = {\n",
        "      'Name': ['Alice', 'Bob', 'Charlie', 'David'],\n",
        "          'Age': [25, 30, 35, 40],\n",
        "              'Score': [85.5, 92.0, 88.0, 76.5]\n",
        "              }\n",
        "df = pd.DataFrame(data)"
      ],
      "metadata": {
        "id": "J9m-YPxL8-Vx"
      },
      "execution_count": 26,
      "outputs": []
    },
    {
      "cell_type": "code",
      "source": [
        "# Add a new column 'Passed' based on Score\n",
        "df['Passed'] = df['Score'] >= 80\n",
        "print(\"\\nDataFrame with 'Passed' column:\\n\", df)\n",
        "\n",
        "# Filter rows where Age > 30\n",
        "older_students = df[df['Age'] > 30]\n",
        "print(\"\\nStudents older than 30:\\n\", older_students)\n",
        "\n",
        "# Calculate average score\n",
        "average_score = df['Score'].mean()\n",
        "print(\"\\nAverage Score:\", average_score)"
      ],
      "metadata": {
        "colab": {
          "base_uri": "https://localhost:8080/"
        },
        "id": "MnPIhuq99c1w",
        "outputId": "5d7120d2-aa23-4912-a7c1-c2ed859be845"
      },
      "execution_count": 16,
      "outputs": [
        {
          "output_type": "stream",
          "name": "stdout",
          "text": [
            "\n",
            "DataFrame with 'Passed' column:\n",
            "       Name  Age  Score  Passed\n",
            "0    Alice   25   85.5    True\n",
            "1      Bob   30   92.0    True\n",
            "2  Charlie   35   88.0    True\n",
            "3    David   40   76.5   False\n",
            "\n",
            "Students older than 30:\n",
            "       Name  Age  Score  Passed\n",
            "2  Charlie   35   88.0    True\n",
            "3    David   40   76.5   False\n",
            "\n",
            "Average Score: 85.5\n"
          ]
        }
      ]
    },
    {
      "cell_type": "code",
      "source": [
        "data = {'Name': ['Alice', 'Bob', 'Charlie'], 'Age': [25, 30, 35], 'Score': [85, 90, 78]}\n",
        "df = pd.DataFrame(data)\n",
        "print(df)"
      ],
      "metadata": {
        "colab": {
          "base_uri": "https://localhost:8080/"
        },
        "id": "y7jkBfgw9j3h",
        "outputId": "d64b8ec9-c7ac-40cc-bef9-660264992ede"
      },
      "execution_count": 19,
      "outputs": [
        {
          "output_type": "stream",
          "name": "stdout",
          "text": [
            "      Name  Age  Score\n",
            "0    Alice   25     85\n",
            "1      Bob   30     90\n",
            "2  Charlie   35     78\n"
          ]
        }
      ]
    },
    {
      "cell_type": "code",
      "source": [
        "df['Passed'] = df['Score'] >= 80\n",
        "print(\"\\nDataFrame with 'Passed' column:\\n\", df)\n",
        "\n",
        "# Filter rows where Age > 30\n",
        "older_students = df[df['Age'] > 30]\n",
        "print(\"\\nStudents older than 30:\\n\", older_students)\n",
        "\n",
        "# Calculate average score\n",
        "average_score = df['Score'].mean()\n",
        "print(\"\\nAverage Score:\", average_score)"
      ],
      "metadata": {
        "colab": {
          "base_uri": "https://localhost:8080/"
        },
        "id": "5IJqqcHN9t8A",
        "outputId": "170e3799-3357-4002-8fb2-ab997c913a45"
      },
      "execution_count": 27,
      "outputs": [
        {
          "output_type": "stream",
          "name": "stdout",
          "text": [
            "\n",
            "DataFrame with 'Passed' column:\n",
            "       Name  Age  Score  Passed\n",
            "0    Alice   25   85.5    True\n",
            "1      Bob   30   92.0    True\n",
            "2  Charlie   35   88.0    True\n",
            "3    David   40   76.5   False\n",
            "\n",
            "Students older than 30:\n",
            "       Name  Age  Score  Passed\n",
            "2  Charlie   35   88.0    True\n",
            "3    David   40   76.5   False\n",
            "\n",
            "Average Score: 85.5\n"
          ]
        }
      ]
    },
    {
      "cell_type": "code",
      "source": [],
      "metadata": {
        "id": "HFUYg0dv96Ow"
      },
      "execution_count": null,
      "outputs": []
    }
  ]
}